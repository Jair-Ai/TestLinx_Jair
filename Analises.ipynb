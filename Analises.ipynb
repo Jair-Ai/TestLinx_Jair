{
 "cells": [
  {
   "cell_type": "markdown",
   "metadata": {},
   "source": [
    "### Imports iniciais necessários"
   ]
  },
  {
   "cell_type": "code",
   "execution_count": null,
   "metadata": {},
   "outputs": [],
   "source": [
    "import pandas as pd\n",
    "import numpy as np\n",
    "import matplotlib.pyplot as plt\n",
    "import datetime as df"
   ]
  },
  {
   "cell_type": "markdown",
   "metadata": {},
   "source": [
    "# Faturamento das lojas Offline"
   ]
  },
  {
   "cell_type": "code",
   "execution_count": 313,
   "metadata": {},
   "outputs": [],
   "source": [
    "#Carregando os dados de vendas offline salvos na pasta Data\n",
    "df_off_sales = pd.read_json('/home/jair_rapids/PycharmProjects/Teste_Linx/Data/offline_sales.json', lines=True, orient='records')"
   ]
  },
  {
   "cell_type": "code",
   "execution_count": 314,
   "metadata": {},
   "outputs": [
    {
     "data": {
      "text/html": [
       "<div>\n",
       "<style scoped>\n",
       "    .dataframe tbody tr th:only-of-type {\n",
       "        vertical-align: middle;\n",
       "    }\n",
       "\n",
       "    .dataframe tbody tr th {\n",
       "        vertical-align: top;\n",
       "    }\n",
       "\n",
       "    .dataframe thead th {\n",
       "        text-align: right;\n",
       "    }\n",
       "</style>\n",
       "<table border=\"1\" class=\"dataframe\">\n",
       "  <thead>\n",
       "    <tr style=\"text-align: right;\">\n",
       "      <th></th>\n",
       "      <th>date</th>\n",
       "      <th>state</th>\n",
       "      <th>store_id</th>\n",
       "      <th>sale_id</th>\n",
       "      <th>off_product_id</th>\n",
       "      <th>quantity</th>\n",
       "      <th>price</th>\n",
       "      <th>customer_id</th>\n",
       "    </tr>\n",
       "  </thead>\n",
       "  <tbody>\n",
       "    <tr>\n",
       "      <th>0</th>\n",
       "      <td>2018-08-01</td>\n",
       "      <td>RN</td>\n",
       "      <td>3162633</td>\n",
       "      <td>323932636465316</td>\n",
       "      <td>643839313230323</td>\n",
       "      <td>1</td>\n",
       "      <td>279.0</td>\n",
       "      <td>NaN</td>\n",
       "    </tr>\n",
       "    <tr>\n",
       "      <th>1</th>\n",
       "      <td>2018-08-01</td>\n",
       "      <td>RN</td>\n",
       "      <td>3162633</td>\n",
       "      <td>326463633336323</td>\n",
       "      <td>613665646663346</td>\n",
       "      <td>1</td>\n",
       "      <td>229.0</td>\n",
       "      <td>NaN</td>\n",
       "    </tr>\n",
       "    <tr>\n",
       "      <th>2</th>\n",
       "      <td>2018-08-01</td>\n",
       "      <td>RN</td>\n",
       "      <td>3162633</td>\n",
       "      <td>333331346330323</td>\n",
       "      <td>343739666265353</td>\n",
       "      <td>1</td>\n",
       "      <td>179.0</td>\n",
       "      <td>NaN</td>\n",
       "    </tr>\n",
       "    <tr>\n",
       "      <th>3</th>\n",
       "      <td>2018-08-01</td>\n",
       "      <td>RN</td>\n",
       "      <td>3162633</td>\n",
       "      <td>393461383633336</td>\n",
       "      <td>373034633762613</td>\n",
       "      <td>1</td>\n",
       "      <td>269.0</td>\n",
       "      <td>NaN</td>\n",
       "    </tr>\n",
       "    <tr>\n",
       "      <th>4</th>\n",
       "      <td>2018-08-01</td>\n",
       "      <td>RN</td>\n",
       "      <td>3162633</td>\n",
       "      <td>616531626536373</td>\n",
       "      <td>343634373062363</td>\n",
       "      <td>1</td>\n",
       "      <td>29.0</td>\n",
       "      <td>NaN</td>\n",
       "    </tr>\n",
       "  </tbody>\n",
       "</table>\n",
       "</div>"
      ],
      "text/plain": [
       "        date state  store_id          sale_id   off_product_id  quantity  \\\n",
       "0 2018-08-01    RN   3162633  323932636465316  643839313230323         1   \n",
       "1 2018-08-01    RN   3162633  326463633336323  613665646663346         1   \n",
       "2 2018-08-01    RN   3162633  333331346330323  343739666265353         1   \n",
       "3 2018-08-01    RN   3162633  393461383633336  373034633762613         1   \n",
       "4 2018-08-01    RN   3162633  616531626536373  343634373062363         1   \n",
       "\n",
       "   price  customer_id  \n",
       "0  279.0          NaN  \n",
       "1  229.0          NaN  \n",
       "2  179.0          NaN  \n",
       "3  269.0          NaN  \n",
       "4   29.0          NaN  "
      ]
     },
     "execution_count": 314,
     "metadata": {},
     "output_type": "execute_result"
    }
   ],
   "source": [
    "#Checando o Dataframe\n",
    "df_off_sales.head()"
   ]
  },
  {
   "cell_type": "markdown",
   "metadata": {},
   "source": [
    "## Codigo para responder a 3 pergunta"
   ]
  },
  {
   "cell_type": "code",
   "execution_count": 188,
   "metadata": {},
   "outputs": [],
   "source": [
    "df_rj = pd.DataFrame(df_off_sales[df_off_sales['state'] == 'RJ'])"
   ]
  },
  {
   "cell_type": "code",
   "execution_count": 217,
   "metadata": {},
   "outputs": [
    {
     "name": "stdout",
     "output_type": "stream",
     "text": [
      "8867\n"
     ]
    }
   ],
   "source": [
    "#vendas do Rio de Janeiro total do mes de agosto de 2018\n",
    "vendas_rj = df_rj.shape[0]\n",
    "print(vendas_rj)"
   ]
  },
  {
   "cell_type": "code",
   "execution_count": 199,
   "metadata": {},
   "outputs": [],
   "source": [
    "from pandas.tseries.offsets import BDay"
   ]
  },
  {
   "cell_type": "code",
   "execution_count": 210,
   "metadata": {},
   "outputs": [],
   "source": [
    "df_weekend = df_rj[df_rj.date.dt.dayofweek >=5]"
   ]
  },
  {
   "cell_type": "code",
   "execution_count": 221,
   "metadata": {},
   "outputs": [
    {
     "name": "stdout",
     "output_type": "stream",
     "text": [
      "Total de vendas Final de semana =  1723\n"
     ]
    }
   ],
   "source": [
    "vendas_final_semana = df_weekend.shape[0]\n",
    "print(\"Total de vendas Final de semana = \", vendas_final_semana)"
   ]
  },
  {
   "cell_type": "code",
   "execution_count": 220,
   "metadata": {},
   "outputs": [
    {
     "name": "stdout",
     "output_type": "stream",
     "text": [
      "Total vende vendas de segunda a sexta no mes de agosto =  7144\n"
     ]
    }
   ],
   "source": [
    "#Numero de vendas de segunda a sexta em agosto de 2018 no rio de janeiro\n",
    "v_s_s_rj = vendas_rj - vendas_final_semana\n",
    "print(\"Total vende vendas de segunda a sexta no mes de agosto = \", v_s_s_rj)"
   ]
  },
  {
   "cell_type": "code",
   "execution_count": 222,
   "metadata": {},
   "outputs": [
    {
     "name": "stdout",
     "output_type": "stream",
     "text": [
      "Media de vendas por dia de segunda a sexta no RJ =  1428.8\n"
     ]
    }
   ],
   "source": [
    "#Media de vendas por dias se segunda a sexta em agosto \n",
    "media_vendas_dia_semana_rj = v_s_s_rj/5\n",
    "print(\"Media de vendas por dia de segunda a sexta no RJ = \", media_vendas_dia_semana_rj)\n"
   ]
  },
  {
   "cell_type": "code",
   "execution_count": 224,
   "metadata": {},
   "outputs": [
    {
     "name": "stdout",
     "output_type": "stream",
     "text": [
      "Media de vendas por dia de final de semana no RJ =  861.5\n"
     ]
    }
   ],
   "source": [
    "#Media de vendas de finais de semana\n",
    "media_weekend_rj = vendas_final_semana/2\n",
    "print(\"Media de vendas por dia de final de semana no RJ = \", media_weekend_rj)"
   ]
  },
  {
   "cell_type": "code",
   "execution_count": 213,
   "metadata": {},
   "outputs": [
    {
     "data": {
      "text/html": [
       "<div>\n",
       "<style scoped>\n",
       "    .dataframe tbody tr th:only-of-type {\n",
       "        vertical-align: middle;\n",
       "    }\n",
       "\n",
       "    .dataframe tbody tr th {\n",
       "        vertical-align: top;\n",
       "    }\n",
       "\n",
       "    .dataframe thead th {\n",
       "        text-align: right;\n",
       "    }\n",
       "</style>\n",
       "<table border=\"1\" class=\"dataframe\">\n",
       "  <thead>\n",
       "    <tr style=\"text-align: right;\">\n",
       "      <th></th>\n",
       "      <th>date</th>\n",
       "      <th>state</th>\n",
       "      <th>store_id</th>\n",
       "      <th>sale_id</th>\n",
       "      <th>off_product_id</th>\n",
       "      <th>quantity</th>\n",
       "      <th>price</th>\n",
       "      <th>customer_id</th>\n",
       "      <th>Total</th>\n",
       "    </tr>\n",
       "  </thead>\n",
       "  <tbody>\n",
       "    <tr>\n",
       "      <th>25961</th>\n",
       "      <td>2018-08-26</td>\n",
       "      <td>RJ</td>\n",
       "      <td>6635613</td>\n",
       "      <td>653631343935643</td>\n",
       "      <td>373833386334646</td>\n",
       "      <td>1</td>\n",
       "      <td>1298.0</td>\n",
       "      <td>3.131396e+19</td>\n",
       "      <td>1298.0</td>\n",
       "    </tr>\n",
       "    <tr>\n",
       "      <th>25962</th>\n",
       "      <td>2018-08-26</td>\n",
       "      <td>RJ</td>\n",
       "      <td>6635613</td>\n",
       "      <td>633137353035353</td>\n",
       "      <td>383463623633323</td>\n",
       "      <td>2</td>\n",
       "      <td>158.0</td>\n",
       "      <td>3.163624e+19</td>\n",
       "      <td>316.0</td>\n",
       "    </tr>\n",
       "    <tr>\n",
       "      <th>25963</th>\n",
       "      <td>2018-08-26</td>\n",
       "      <td>RJ</td>\n",
       "      <td>6635613</td>\n",
       "      <td>633137353035353</td>\n",
       "      <td>643338383935343</td>\n",
       "      <td>1</td>\n",
       "      <td>158.0</td>\n",
       "      <td>3.163624e+19</td>\n",
       "      <td>158.0</td>\n",
       "    </tr>\n",
       "    <tr>\n",
       "      <th>25964</th>\n",
       "      <td>2018-08-26</td>\n",
       "      <td>RJ</td>\n",
       "      <td>6635613</td>\n",
       "      <td>363062653032653</td>\n",
       "      <td>303566313838376</td>\n",
       "      <td>1</td>\n",
       "      <td>299.0</td>\n",
       "      <td>3.264326e+19</td>\n",
       "      <td>299.0</td>\n",
       "    </tr>\n",
       "    <tr>\n",
       "      <th>25965</th>\n",
       "      <td>2018-08-26</td>\n",
       "      <td>RJ</td>\n",
       "      <td>6635613</td>\n",
       "      <td>363062653032653</td>\n",
       "      <td>313937353132383</td>\n",
       "      <td>1</td>\n",
       "      <td>558.0</td>\n",
       "      <td>3.264326e+19</td>\n",
       "      <td>558.0</td>\n",
       "    </tr>\n",
       "  </tbody>\n",
       "</table>\n",
       "</div>"
      ],
      "text/plain": [
       "            date state  store_id          sale_id   off_product_id  quantity  \\\n",
       "25961 2018-08-26    RJ   6635613  653631343935643  373833386334646         1   \n",
       "25962 2018-08-26    RJ   6635613  633137353035353  383463623633323         2   \n",
       "25963 2018-08-26    RJ   6635613  633137353035353  643338383935343         1   \n",
       "25964 2018-08-26    RJ   6635613  363062653032653  303566313838376         1   \n",
       "25965 2018-08-26    RJ   6635613  363062653032653  313937353132383         1   \n",
       "\n",
       "        price   customer_id   Total  \n",
       "25961  1298.0  3.131396e+19  1298.0  \n",
       "25962   158.0  3.163624e+19   316.0  \n",
       "25963   158.0  3.163624e+19   158.0  \n",
       "25964   299.0  3.264326e+19   299.0  \n",
       "25965   558.0  3.264326e+19   558.0  "
      ]
     },
     "execution_count": 213,
     "metadata": {},
     "output_type": "execute_result"
    }
   ],
   "source": [
    "df_weekend.tail()"
   ]
  },
  {
   "cell_type": "code",
   "execution_count": 107,
   "metadata": {},
   "outputs": [
    {
     "data": {
      "text/plain": [
       "1"
      ]
     },
     "execution_count": 107,
     "metadata": {},
     "output_type": "execute_result"
    }
   ],
   "source": [
    "df_rj['store_id'].unique().shape[0]"
   ]
  },
  {
   "cell_type": "code",
   "execution_count": 108,
   "metadata": {},
   "outputs": [
    {
     "data": {
      "text/html": [
       "<div>\n",
       "<style scoped>\n",
       "    .dataframe tbody tr th:only-of-type {\n",
       "        vertical-align: middle;\n",
       "    }\n",
       "\n",
       "    .dataframe tbody tr th {\n",
       "        vertical-align: top;\n",
       "    }\n",
       "\n",
       "    .dataframe thead th {\n",
       "        text-align: right;\n",
       "    }\n",
       "</style>\n",
       "<table border=\"1\" class=\"dataframe\">\n",
       "  <thead>\n",
       "    <tr style=\"text-align: right;\">\n",
       "      <th></th>\n",
       "      <th>date</th>\n",
       "      <th>state</th>\n",
       "      <th>store_id</th>\n",
       "      <th>sale_id</th>\n",
       "      <th>off_product_id</th>\n",
       "      <th>quantity</th>\n",
       "      <th>price</th>\n",
       "      <th>customer_id</th>\n",
       "    </tr>\n",
       "  </thead>\n",
       "  <tbody>\n",
       "    <tr>\n",
       "      <th>29367</th>\n",
       "      <td>2018-08-31</td>\n",
       "      <td>RS</td>\n",
       "      <td>6637353</td>\n",
       "      <td>633064386463376</td>\n",
       "      <td>346433376135623</td>\n",
       "      <td>1</td>\n",
       "      <td>129.0</td>\n",
       "      <td>6.439626e+19</td>\n",
       "    </tr>\n",
       "    <tr>\n",
       "      <th>29368</th>\n",
       "      <td>2018-08-31</td>\n",
       "      <td>RS</td>\n",
       "      <td>6637353</td>\n",
       "      <td>633064386463376</td>\n",
       "      <td>633239313036316</td>\n",
       "      <td>1</td>\n",
       "      <td>138.0</td>\n",
       "      <td>6.439626e+19</td>\n",
       "    </tr>\n",
       "    <tr>\n",
       "      <th>29369</th>\n",
       "      <td>2018-08-31</td>\n",
       "      <td>RS</td>\n",
       "      <td>6637353</td>\n",
       "      <td>393832393138626</td>\n",
       "      <td>333938616133373</td>\n",
       "      <td>1</td>\n",
       "      <td>149.0</td>\n",
       "      <td>6.632647e+19</td>\n",
       "    </tr>\n",
       "    <tr>\n",
       "      <th>29370</th>\n",
       "      <td>2018-08-31</td>\n",
       "      <td>RS</td>\n",
       "      <td>6637353</td>\n",
       "      <td>393832393138626</td>\n",
       "      <td>366337303963646</td>\n",
       "      <td>1</td>\n",
       "      <td>109.0</td>\n",
       "      <td>6.632647e+19</td>\n",
       "    </tr>\n",
       "    <tr>\n",
       "      <th>29371</th>\n",
       "      <td>2018-08-31</td>\n",
       "      <td>RS</td>\n",
       "      <td>6637353</td>\n",
       "      <td>393832393138626</td>\n",
       "      <td>393961643766636</td>\n",
       "      <td>1</td>\n",
       "      <td>134.5</td>\n",
       "      <td>6.632647e+19</td>\n",
       "    </tr>\n",
       "  </tbody>\n",
       "</table>\n",
       "</div>"
      ],
      "text/plain": [
       "            date state  store_id          sale_id   off_product_id  quantity  \\\n",
       "29367 2018-08-31    RS   6637353  633064386463376  346433376135623         1   \n",
       "29368 2018-08-31    RS   6637353  633064386463376  633239313036316         1   \n",
       "29369 2018-08-31    RS   6637353  393832393138626  333938616133373         1   \n",
       "29370 2018-08-31    RS   6637353  393832393138626  366337303963646         1   \n",
       "29371 2018-08-31    RS   6637353  393832393138626  393961643766636         1   \n",
       "\n",
       "       price   customer_id  \n",
       "29367  129.0  6.439626e+19  \n",
       "29368  138.0  6.439626e+19  \n",
       "29369  149.0  6.632647e+19  \n",
       "29370  109.0  6.632647e+19  \n",
       "29371  134.5  6.632647e+19  "
      ]
     },
     "execution_count": 108,
     "metadata": {},
     "output_type": "execute_result"
    }
   ],
   "source": [
    "#Conferindo o final para ver o periodo total\n",
    "df_off_sales.tail()"
   ]
  },
  {
   "cell_type": "code",
   "execution_count": 109,
   "metadata": {},
   "outputs": [
    {
     "data": {
      "text/plain": [
       "(29372, 8)"
      ]
     },
     "execution_count": 109,
     "metadata": {},
     "output_type": "execute_result"
    }
   ],
   "source": [
    "df_off_sales.shape"
   ]
  },
  {
   "cell_type": "code",
   "execution_count": 110,
   "metadata": {},
   "outputs": [],
   "source": [
    "#Criando uma coluna para calcular o total de vendas, visto que alguns clientes podem ter comprado mais de 1 produto\n",
    "df_off_sales['Total'] = df_off_sales.quantity * df_off_sales.price"
   ]
  },
  {
   "cell_type": "code",
   "execution_count": 111,
   "metadata": {},
   "outputs": [
    {
     "data": {
      "text/plain": [
       "13747940.13"
      ]
     },
     "execution_count": 111,
     "metadata": {},
     "output_type": "execute_result"
    }
   ],
   "source": [
    "#Cheganco a soma dos produtos para comparar com o total\n",
    "df_off_sales.price.sum()"
   ]
  },
  {
   "cell_type": "code",
   "execution_count": 143,
   "metadata": {},
   "outputs": [
    {
     "name": "stdout",
     "output_type": "stream",
     "text": [
      "13903005.32\n"
     ]
    }
   ],
   "source": [
    "#Conferindo o total de vendas offline\n",
    "total_vendas_offline = df_off_sales.Total.sum()\n",
    "print(total_vendas_offline)"
   ]
  },
  {
   "cell_type": "code",
   "execution_count": 112,
   "metadata": {},
   "outputs": [
    {
     "data": {
      "text/plain": [
       "1    28784\n",
       "2      531\n",
       "3       43\n",
       "4       10\n",
       "5        2\n",
       "9        1\n",
       "6        1\n",
       "Name: quantity, dtype: int64"
      ]
     },
     "execution_count": 112,
     "metadata": {},
     "output_type": "execute_result"
    }
   ],
   "source": [
    "#Vemos que a diferença é nao é tao grande em contar os preços ou os preços pela quantidade, entao vamos conferir quantos produtos sao vendidos mais de 1 e sentir se esta certo\n",
    "df_off_sales.quantity.value_counts()"
   ]
  },
  {
   "cell_type": "code",
   "execution_count": 114,
   "metadata": {},
   "outputs": [
    {
     "name": "stdout",
     "output_type": "stream",
     "text": [
      "13903005.32\n"
     ]
    }
   ],
   "source": [
    "print(total_vendas_offline)"
   ]
  },
  {
   "cell_type": "code",
   "execution_count": 115,
   "metadata": {},
   "outputs": [
    {
     "data": {
      "text/plain": [
       "array(['RN', 'RJ', 'SP', 'PR', 'RS', 'PE', 'AM', 'MS', 'PI', 'GO', 'MA'],\n",
       "      dtype=object)"
      ]
     },
     "execution_count": 115,
     "metadata": {},
     "output_type": "execute_result"
    }
   ],
   "source": [
    "#Estados onde a empresa tem filial\n",
    "df_off_sales.state.unique()"
   ]
  },
  {
   "cell_type": "code",
   "execution_count": 116,
   "metadata": {},
   "outputs": [],
   "source": [
    "#Verificando volume de vendas de cada estado\n",
    "venda_por_estado = pd.DataFrame(df_off_sales.groupby('state')[['quantity', 'Total']].sum())"
   ]
  },
  {
   "cell_type": "code",
   "execution_count": 316,
   "metadata": {},
   "outputs": [
    {
     "data": {
      "text/html": [
       "<div>\n",
       "<style scoped>\n",
       "    .dataframe tbody tr th:only-of-type {\n",
       "        vertical-align: middle;\n",
       "    }\n",
       "\n",
       "    .dataframe tbody tr th {\n",
       "        vertical-align: top;\n",
       "    }\n",
       "\n",
       "    .dataframe thead th {\n",
       "        text-align: right;\n",
       "    }\n",
       "</style>\n",
       "<table border=\"1\" class=\"dataframe\">\n",
       "  <thead>\n",
       "    <tr style=\"text-align: right;\">\n",
       "      <th></th>\n",
       "      <th>state</th>\n",
       "      <th>quantity</th>\n",
       "      <th>Total</th>\n",
       "      <th>N_filiais</th>\n",
       "      <th>Regiao</th>\n",
       "      <th>Fat_medio_p_filial</th>\n",
       "      <th>Ticket_Medio</th>\n",
       "    </tr>\n",
       "  </thead>\n",
       "  <tbody>\n",
       "    <tr>\n",
       "      <th>0</th>\n",
       "      <td>AM</td>\n",
       "      <td>1554</td>\n",
       "      <td>419683.69</td>\n",
       "      <td>2.0</td>\n",
       "      <td>NORTE</td>\n",
       "      <td>209841.845000</td>\n",
       "      <td>270.066725</td>\n",
       "    </tr>\n",
       "    <tr>\n",
       "      <th>1</th>\n",
       "      <td>GO</td>\n",
       "      <td>305</td>\n",
       "      <td>169031.07</td>\n",
       "      <td>1.0</td>\n",
       "      <td>CENTRO-OESTE</td>\n",
       "      <td>169031.070000</td>\n",
       "      <td>554.200230</td>\n",
       "    </tr>\n",
       "    <tr>\n",
       "      <th>2</th>\n",
       "      <td>MA</td>\n",
       "      <td>1089</td>\n",
       "      <td>233179.79</td>\n",
       "      <td>1.0</td>\n",
       "      <td>NORDESTE</td>\n",
       "      <td>233179.790000</td>\n",
       "      <td>214.122856</td>\n",
       "    </tr>\n",
       "    <tr>\n",
       "      <th>3</th>\n",
       "      <td>MS</td>\n",
       "      <td>369</td>\n",
       "      <td>258786.00</td>\n",
       "      <td>1.0</td>\n",
       "      <td>CENTRO-OESTE</td>\n",
       "      <td>258786.000000</td>\n",
       "      <td>701.317073</td>\n",
       "    </tr>\n",
       "    <tr>\n",
       "      <th>4</th>\n",
       "      <td>PE</td>\n",
       "      <td>3410</td>\n",
       "      <td>1115851.47</td>\n",
       "      <td>3.0</td>\n",
       "      <td>NORDESTE</td>\n",
       "      <td>371950.490000</td>\n",
       "      <td>327.229170</td>\n",
       "    </tr>\n",
       "    <tr>\n",
       "      <th>5</th>\n",
       "      <td>PI</td>\n",
       "      <td>846</td>\n",
       "      <td>172420.00</td>\n",
       "      <td>1.0</td>\n",
       "      <td>NORDESTE</td>\n",
       "      <td>172420.000000</td>\n",
       "      <td>203.806147</td>\n",
       "    </tr>\n",
       "    <tr>\n",
       "      <th>6</th>\n",
       "      <td>PR</td>\n",
       "      <td>903</td>\n",
       "      <td>627028.80</td>\n",
       "      <td>3.0</td>\n",
       "      <td>SUL</td>\n",
       "      <td>209009.600000</td>\n",
       "      <td>694.384053</td>\n",
       "    </tr>\n",
       "    <tr>\n",
       "      <th>7</th>\n",
       "      <td>RJ</td>\n",
       "      <td>9103</td>\n",
       "      <td>6257418.50</td>\n",
       "      <td>13.0</td>\n",
       "      <td>SUDESTE</td>\n",
       "      <td>481339.884615</td>\n",
       "      <td>687.401791</td>\n",
       "    </tr>\n",
       "    <tr>\n",
       "      <th>8</th>\n",
       "      <td>RN</td>\n",
       "      <td>1506</td>\n",
       "      <td>296840.20</td>\n",
       "      <td>1.0</td>\n",
       "      <td>NORDESTE</td>\n",
       "      <td>296840.200000</td>\n",
       "      <td>197.105046</td>\n",
       "    </tr>\n",
       "    <tr>\n",
       "      <th>9</th>\n",
       "      <td>RS</td>\n",
       "      <td>4681</td>\n",
       "      <td>1328505.62</td>\n",
       "      <td>3.0</td>\n",
       "      <td>SUL</td>\n",
       "      <td>442835.206667</td>\n",
       "      <td>283.808079</td>\n",
       "    </tr>\n",
       "    <tr>\n",
       "      <th>10</th>\n",
       "      <td>SP</td>\n",
       "      <td>6274</td>\n",
       "      <td>3024260.18</td>\n",
       "      <td>10.0</td>\n",
       "      <td>SUDESTE</td>\n",
       "      <td>302426.018000</td>\n",
       "      <td>482.030631</td>\n",
       "    </tr>\n",
       "  </tbody>\n",
       "</table>\n",
       "</div>"
      ],
      "text/plain": [
       "   state  quantity       Total  N_filiais        Regiao  Fat_medio_p_filial  \\\n",
       "0     AM      1554   419683.69        2.0         NORTE       209841.845000   \n",
       "1     GO       305   169031.07        1.0  CENTRO-OESTE       169031.070000   \n",
       "2     MA      1089   233179.79        1.0      NORDESTE       233179.790000   \n",
       "3     MS       369   258786.00        1.0  CENTRO-OESTE       258786.000000   \n",
       "4     PE      3410  1115851.47        3.0      NORDESTE       371950.490000   \n",
       "5     PI       846   172420.00        1.0      NORDESTE       172420.000000   \n",
       "6     PR       903   627028.80        3.0           SUL       209009.600000   \n",
       "7     RJ      9103  6257418.50       13.0       SUDESTE       481339.884615   \n",
       "8     RN      1506   296840.20        1.0      NORDESTE       296840.200000   \n",
       "9     RS      4681  1328505.62        3.0           SUL       442835.206667   \n",
       "10    SP      6274  3024260.18       10.0       SUDESTE       302426.018000   \n",
       "\n",
       "    Ticket_Medio  \n",
       "0     270.066725  \n",
       "1     554.200230  \n",
       "2     214.122856  \n",
       "3     701.317073  \n",
       "4     327.229170  \n",
       "5     203.806147  \n",
       "6     694.384053  \n",
       "7     687.401791  \n",
       "8     197.105046  \n",
       "9     283.808079  \n",
       "10    482.030631  "
      ]
     },
     "execution_count": 316,
     "metadata": {},
     "output_type": "execute_result"
    }
   ],
   "source": [
    "venda_por_estado.head(20)\n"
   ]
  },
  {
   "cell_type": "code",
   "execution_count": 121,
   "metadata": {},
   "outputs": [],
   "source": [
    "venda_por_estado.reset_index(inplace=True)"
   ]
  },
  {
   "cell_type": "code",
   "execution_count": 122,
   "metadata": {},
   "outputs": [],
   "source": [
    "#Dicionario com as regiões do Brasil para inserir no df de report\n",
    "regioes = {'SUL':['SC','RS','PR'],\n",
    "           'SUDESTE':['SP','RJ', 'MG', 'ES'],\n",
    "           'NORTE':['AC','AM', 'RR', 'PA', 'TO','RO'],\n",
    "           'CENTRO-OESTE':['MT','MS','GO'],\n",
    "           'SUL':['PR','RS','SC'],\n",
    "           'NORDESTE':['MA', 'PI', 'CE', 'RN', 'PE', 'PB', 'SE', 'AL', 'BA']}"
   ]
  },
  {
   "cell_type": "code",
   "execution_count": 123,
   "metadata": {},
   "outputs": [],
   "source": [
    "#Criando a coluna de vendas por filiais\n",
    "venda_por_estado['N_filiais'] = np.NaN\n",
    "for (index, row ) in venda_por_estado.iterrows():\n",
    "        df = df_off_sales[df_off_sales['state'] == row['state']]\n",
    "        venda_por_estado.loc[index,'N_filiais'] = df['store_id'].value_counts().shape[0]\n",
    "    \n",
    "    "
   ]
  },
  {
   "cell_type": "code",
   "execution_count": 124,
   "metadata": {},
   "outputs": [],
   "source": [
    "#Criando a coluna de regioes\n",
    "venda_por_estado['Regiao'] = np.NaN\n",
    "for (index,row) in venda_por_estado.iterrows():\n",
    "    for regiao in regioes:\n",
    "        if any(state == row['state'] for state in regioes[regiao]):\n",
    "            venda_por_estado.loc[index,'Regiao'] = regiao\n",
    "    "
   ]
  },
  {
   "cell_type": "code",
   "execution_count": 125,
   "metadata": {},
   "outputs": [],
   "source": [
    "#Coluna de faturamento Medio por Filial\n",
    "venda_por_estado['Fat_medio_p_filial'] = venda_por_estado.Total / venda_por_estado.N_filiais"
   ]
  },
  {
   "cell_type": "code",
   "execution_count": 126,
   "metadata": {},
   "outputs": [],
   "source": [
    "#Coluna de Ticket medio por estado\n",
    "venda_por_estado['Ticket_Medio'] = venda_por_estado.Total/venda_por_estado.quantity"
   ]
  },
  {
   "cell_type": "markdown",
   "metadata": {},
   "source": [
    "## Hora de dar uma checada no que temos, visualmente"
   ]
  },
  {
   "cell_type": "code",
   "execution_count": 127,
   "metadata": {},
   "outputs": [
    {
     "data": {
      "text/plain": [
       "<matplotlib.axes._subplots.AxesSubplot at 0x7fc837725650>"
      ]
     },
     "execution_count": 127,
     "metadata": {},
     "output_type": "execute_result"
    },
    {
     "data": {
      "image/png": "[encoded data removed]",
      "text/plain": [
       "<Figure size 2160x720 with 4 Axes>"
      ]
     },
     "metadata": {
      "needs_background": "light"
     },
     "output_type": "display_data"
    }
   ],
   "source": [
    "fig, axes = plt.subplots(nrows=1, ncols=4, figsize=(30,10))\n",
    "\n",
    "#Venda por estado em quantidade\n",
    "venda_por_estado.sort_values(by=['quantity']).pivot('state','Regiao','quantity').plot(ax= axes[0],kind='bar', title='Vendas em quantidade')\n",
    "#venda_por_estado.plot(ax = axes[0], kind='bar', x='state', color='green', title='Vendas em quantidade de produtos')\n",
    "venda_por_estado.pivot('state','Regiao','Total').plot(ax= axes[1],kind='bar', title='Faturamento Total')\n",
    "venda_por_estado.pivot('state','Regiao','Fat_medio_p_filial').plot(ax= axes[2],kind='bar', title='Faturamento por Filial')\n",
    "venda_por_estado.pivot('state','Regiao','Ticket_Medio').plot(ax= axes[3],kind='bar', title='Ticket Medio por estado')"
   ]
  },
  {
   "cell_type": "code",
   "execution_count": null,
   "metadata": {},
   "outputs": [],
   "source": []
  },
  {
   "cell_type": "markdown",
   "metadata": {},
   "source": [
    "# Insides Vendas Offline "
   ]
  },
  {
   "cell_type": "markdown",
   "metadata": {},
   "source": [
    "### 1- Vemos que o Rio Grande do Sul tem o segundo maior faturamento por filial de todos os estados seguido de Pernanbuco, embora o ticket medio dos 2 estejam entre os menores, eles tem a 3 e 4 posicao na maior quantidade de vendas, mesmo tendo apenas 3 filiais.\n",
    "## Eu recomendaria fortemente investimento na região e uma pesquisa de como subir o ticket medio ja que as lojas ja vendem bem\n",
    "### 2 -Região Sudeste lidera o faturamento total com Rio De Janeiro na ponta contado com Mais lojas(13), um otimo ticket medio, e São Paulo Logo Atras com 10 lojas, porem com um faturamento por filial bem menor.\n",
    "### 3 - Regiao Centro-Oeste tem 2 filiais, 1 por estado, e embora o faturamento por filial nao seja tao espressivo como Rj,Rs, SP ou PE, tem um alto ticket médio oque pode ser um grande chance de lucro."
   ]
  },
  {
   "cell_type": "markdown",
   "metadata": {},
   "source": [
    "## Confirmação do Insight"
   ]
  },
  {
   "cell_type": "code",
   "execution_count": 135,
   "metadata": {},
   "outputs": [],
   "source": [
    "#Vamos verificar se onde deve ser investido em novas lojas, gerando um dataframe por região\n",
    "vendas_regiao = venda_por_estado.groupby('Regiao')['quantity', 'N_filiais'].sum()"
   ]
  },
  {
   "cell_type": "code",
   "execution_count": 136,
   "metadata": {},
   "outputs": [
    {
     "data": {
      "text/html": [
       "<div>\n",
       "<style scoped>\n",
       "    .dataframe tbody tr th:only-of-type {\n",
       "        vertical-align: middle;\n",
       "    }\n",
       "\n",
       "    .dataframe tbody tr th {\n",
       "        vertical-align: top;\n",
       "    }\n",
       "\n",
       "    .dataframe thead th {\n",
       "        text-align: right;\n",
       "    }\n",
       "</style>\n",
       "<table border=\"1\" class=\"dataframe\">\n",
       "  <thead>\n",
       "    <tr style=\"text-align: right;\">\n",
       "      <th></th>\n",
       "      <th>quantity</th>\n",
       "      <th>N_filiais</th>\n",
       "    </tr>\n",
       "    <tr>\n",
       "      <th>Regiao</th>\n",
       "      <th></th>\n",
       "      <th></th>\n",
       "    </tr>\n",
       "  </thead>\n",
       "  <tbody>\n",
       "    <tr>\n",
       "      <th>CENTRO-OESTE</th>\n",
       "      <td>674</td>\n",
       "      <td>2.0</td>\n",
       "    </tr>\n",
       "    <tr>\n",
       "      <th>NORDESTE</th>\n",
       "      <td>6851</td>\n",
       "      <td>6.0</td>\n",
       "    </tr>\n",
       "    <tr>\n",
       "      <th>NORTE</th>\n",
       "      <td>1554</td>\n",
       "      <td>2.0</td>\n",
       "    </tr>\n",
       "    <tr>\n",
       "      <th>SUDESTE</th>\n",
       "      <td>15377</td>\n",
       "      <td>23.0</td>\n",
       "    </tr>\n",
       "    <tr>\n",
       "      <th>SUL</th>\n",
       "      <td>5584</td>\n",
       "      <td>6.0</td>\n",
       "    </tr>\n",
       "  </tbody>\n",
       "</table>\n",
       "</div>"
      ],
      "text/plain": [
       "              quantity  N_filiais\n",
       "Regiao                           \n",
       "CENTRO-OESTE       674        2.0\n",
       "NORDESTE          6851        6.0\n",
       "NORTE             1554        2.0\n",
       "SUDESTE          15377       23.0\n",
       "SUL               5584        6.0"
      ]
     },
     "execution_count": 136,
     "metadata": {},
     "output_type": "execute_result"
    }
   ],
   "source": [
    "vendas_regiao.head(10)"
   ]
  },
  {
   "cell_type": "code",
   "execution_count": 137,
   "metadata": {},
   "outputs": [],
   "source": [
    "#Vamos ver a quantidade de vendas por filial em cada região\n",
    "vendas_regiao['Qtd_v_p_filiais'] = vendas_regiao.quantity/vendas_regiao.N_filiais"
   ]
  },
  {
   "cell_type": "code",
   "execution_count": 142,
   "metadata": {},
   "outputs": [
    {
     "data": {
      "text/html": [
       "<div>\n",
       "<style scoped>\n",
       "    .dataframe tbody tr th:only-of-type {\n",
       "        vertical-align: middle;\n",
       "    }\n",
       "\n",
       "    .dataframe tbody tr th {\n",
       "        vertical-align: top;\n",
       "    }\n",
       "\n",
       "    .dataframe thead th {\n",
       "        text-align: right;\n",
       "    }\n",
       "</style>\n",
       "<table border=\"1\" class=\"dataframe\">\n",
       "  <thead>\n",
       "    <tr style=\"text-align: right;\">\n",
       "      <th></th>\n",
       "      <th>quantity</th>\n",
       "      <th>N_filiais</th>\n",
       "      <th>Qtd_v_p_filiais</th>\n",
       "    </tr>\n",
       "    <tr>\n",
       "      <th>Regiao</th>\n",
       "      <th></th>\n",
       "      <th></th>\n",
       "      <th></th>\n",
       "    </tr>\n",
       "  </thead>\n",
       "  <tbody>\n",
       "    <tr>\n",
       "      <th>CENTRO-OESTE</th>\n",
       "      <td>674</td>\n",
       "      <td>2.0</td>\n",
       "      <td>337.000000</td>\n",
       "    </tr>\n",
       "    <tr>\n",
       "      <th>SUDESTE</th>\n",
       "      <td>15377</td>\n",
       "      <td>23.0</td>\n",
       "      <td>668.565217</td>\n",
       "    </tr>\n",
       "    <tr>\n",
       "      <th>NORTE</th>\n",
       "      <td>1554</td>\n",
       "      <td>2.0</td>\n",
       "      <td>777.000000</td>\n",
       "    </tr>\n",
       "    <tr>\n",
       "      <th>SUL</th>\n",
       "      <td>5584</td>\n",
       "      <td>6.0</td>\n",
       "      <td>930.666667</td>\n",
       "    </tr>\n",
       "    <tr>\n",
       "      <th>NORDESTE</th>\n",
       "      <td>6851</td>\n",
       "      <td>6.0</td>\n",
       "      <td>1141.833333</td>\n",
       "    </tr>\n",
       "  </tbody>\n",
       "</table>\n",
       "</div>"
      ],
      "text/plain": [
       "              quantity  N_filiais  Qtd_v_p_filiais\n",
       "Regiao                                            \n",
       "CENTRO-OESTE       674        2.0       337.000000\n",
       "SUDESTE          15377       23.0       668.565217\n",
       "NORTE             1554        2.0       777.000000\n",
       "SUL               5584        6.0       930.666667\n",
       "NORDESTE          6851        6.0      1141.833333"
      ]
     },
     "execution_count": 142,
     "metadata": {},
     "output_type": "execute_result"
    }
   ],
   "source": [
    "vendas_regiao.sort_values(by='Qtd_v_p_filiais')"
   ]
  },
  {
   "cell_type": "markdown",
   "metadata": {},
   "source": [
    "## Confirmamos que o Nordeste e o Sul que tem as melhores quantidades de vendas por loja tem apenas aproximadamente 1/4 de lojas do sudeste, talvez pela Matriz ser no sudeste (possibilidade ja que nao sei que rede de lojas é)"
   ]
  },
  {
   "cell_type": "markdown",
   "metadata": {},
   "source": [
    "# Analise Online"
   ]
  },
  {
   "cell_type": "code",
   "execution_count": 239,
   "metadata": {},
   "outputs": [],
   "source": [
    "#Carregando os dados\n",
    "#coloque aqui o caminho onde salvou o json ou csv\n",
    "path_online_orders ='/home/jair_rapids/PycharmProjects/Teste_Linx/Data/online_orders.json'\n",
    "df_online_orders = pd.read_json(path_online_orders, lines=True, orient='records')"
   ]
  },
  {
   "cell_type": "code",
   "execution_count": 227,
   "metadata": {},
   "outputs": [
    {
     "data": {
      "text/html": [
       "<div>\n",
       "<style scoped>\n",
       "    .dataframe tbody tr th:only-of-type {\n",
       "        vertical-align: middle;\n",
       "    }\n",
       "\n",
       "    .dataframe tbody tr th {\n",
       "        vertical-align: top;\n",
       "    }\n",
       "\n",
       "    .dataframe thead th {\n",
       "        text-align: right;\n",
       "    }\n",
       "</style>\n",
       "<table border=\"1\" class=\"dataframe\">\n",
       "  <thead>\n",
       "    <tr style=\"text-align: right;\">\n",
       "      <th></th>\n",
       "      <th>date</th>\n",
       "      <th>visitor_id</th>\n",
       "      <th>deviceType</th>\n",
       "      <th>order_id</th>\n",
       "      <th>on_product_id</th>\n",
       "      <th>quantity</th>\n",
       "      <th>price</th>\n",
       "      <th>customer_id</th>\n",
       "    </tr>\n",
       "  </thead>\n",
       "  <tbody>\n",
       "    <tr>\n",
       "      <th>0</th>\n",
       "      <td>2018-08-01</td>\n",
       "      <td>3.663324e+24</td>\n",
       "      <td>desktop</td>\n",
       "      <td>363063373630306</td>\n",
       "      <td>323762666337343</td>\n",
       "      <td>1</td>\n",
       "      <td>839</td>\n",
       "      <td>NaN</td>\n",
       "    </tr>\n",
       "    <tr>\n",
       "      <th>1</th>\n",
       "      <td>2018-08-01</td>\n",
       "      <td>3.430317e+24</td>\n",
       "      <td>mobile</td>\n",
       "      <td>356664366366353</td>\n",
       "      <td>313562333039323</td>\n",
       "      <td>1</td>\n",
       "      <td>629</td>\n",
       "      <td>6.339334e+19</td>\n",
       "    </tr>\n",
       "    <tr>\n",
       "      <th>2</th>\n",
       "      <td>2018-08-01</td>\n",
       "      <td>3.261343e+24</td>\n",
       "      <td>desktop</td>\n",
       "      <td>313432656633333</td>\n",
       "      <td>383863346531623</td>\n",
       "      <td>1</td>\n",
       "      <td>219</td>\n",
       "      <td>3.765363e+19</td>\n",
       "    </tr>\n",
       "    <tr>\n",
       "      <th>3</th>\n",
       "      <td>2018-08-01</td>\n",
       "      <td>6.437387e+24</td>\n",
       "      <td>mobile</td>\n",
       "      <td>633236633438383</td>\n",
       "      <td>666136386663626</td>\n",
       "      <td>1</td>\n",
       "      <td>239</td>\n",
       "      <td>6.533383e+19</td>\n",
       "    </tr>\n",
       "    <tr>\n",
       "      <th>4</th>\n",
       "      <td>2018-08-01</td>\n",
       "      <td>6.264657e+24</td>\n",
       "      <td>desktop</td>\n",
       "      <td>623030326130383</td>\n",
       "      <td>626533383465323</td>\n",
       "      <td>1</td>\n",
       "      <td>69</td>\n",
       "      <td>NaN</td>\n",
       "    </tr>\n",
       "  </tbody>\n",
       "</table>\n",
       "</div>"
      ],
      "text/plain": [
       "        date    visitor_id deviceType         order_id    on_product_id  \\\n",
       "0 2018-08-01  3.663324e+24    desktop  363063373630306  323762666337343   \n",
       "1 2018-08-01  3.430317e+24     mobile  356664366366353  313562333039323   \n",
       "2 2018-08-01  3.261343e+24    desktop  313432656633333  383863346531623   \n",
       "3 2018-08-01  6.437387e+24     mobile  633236633438383  666136386663626   \n",
       "4 2018-08-01  6.264657e+24    desktop  623030326130383  626533383465323   \n",
       "\n",
       "   quantity  price   customer_id  \n",
       "0         1    839           NaN  \n",
       "1         1    629  6.339334e+19  \n",
       "2         1    219  3.765363e+19  \n",
       "3         1    239  6.533383e+19  \n",
       "4         1     69           NaN  "
      ]
     },
     "execution_count": 227,
     "metadata": {},
     "output_type": "execute_result"
    }
   ],
   "source": [
    "df_online_orders.head()"
   ]
  },
  {
   "cell_type": "code",
   "execution_count": 228,
   "metadata": {},
   "outputs": [
    {
     "data": {
      "text/plain": [
       "(12237, 8)"
      ]
     },
     "execution_count": 228,
     "metadata": {},
     "output_type": "execute_result"
    }
   ],
   "source": [
    "df_online_orders.shape"
   ]
  },
  {
   "cell_type": "code",
   "execution_count": 229,
   "metadata": {},
   "outputs": [
    {
     "data": {
      "text/plain": [
       "626664333563363    74\n",
       "656136316465643    50\n",
       "376531636530353    50\n",
       "396464373131666    47\n",
       "393665363031353    45\n",
       "                   ..\n",
       "643161333961346     1\n",
       "656535323731333     1\n",
       "626331343133353     1\n",
       "383432356665383     1\n",
       "313232346634653     1\n",
       "Name: on_product_id, Length: 2184, dtype: int64"
      ]
     },
     "execution_count": 229,
     "metadata": {},
     "output_type": "execute_result"
    }
   ],
   "source": [
    "df_online_orders.on_product_id.value_counts()"
   ]
  },
  {
   "cell_type": "code",
   "execution_count": 230,
   "metadata": {},
   "outputs": [
    {
     "name": "stdout",
     "output_type": "stream",
     "text": [
      "5649323\n"
     ]
    }
   ],
   "source": [
    "faturamento_online = sum(df_online_orders.quantity * df_online_orders.price)\n",
    "print(faturamento_online)"
   ]
  },
  {
   "cell_type": "code",
   "execution_count": 231,
   "metadata": {},
   "outputs": [
    {
     "name": "stdout",
     "output_type": "stream",
     "text": [
      "19552328.32\n"
     ]
    }
   ],
   "source": [
    "#Total de vendas online +offline, oque responde a primeira pergunta\n",
    "faturamento_total_on_off = faturamento_online + total_vendas_offline\n",
    "print(faturamento_total_on_off)"
   ]
  },
  {
   "cell_type": "code",
   "execution_count": 232,
   "metadata": {},
   "outputs": [
    {
     "data": {
      "text/plain": [
       "0"
      ]
     },
     "execution_count": 232,
     "metadata": {},
     "output_type": "execute_result"
    }
   ],
   "source": [
    "#Verificando dados NaN para responder a segunda pergunta\n",
    "df_online_orders['on_product_id'].isna().sum()"
   ]
  },
  {
   "cell_type": "code",
   "execution_count": 233,
   "metadata": {},
   "outputs": [
    {
     "data": {
      "text/plain": [
       "0"
      ]
     },
     "execution_count": 233,
     "metadata": {},
     "output_type": "execute_result"
    }
   ],
   "source": [
    "#verificando dados nulos para responder a segunda pergunta\n",
    "df_online_orders['on_product_id'].isnull().sum()"
   ]
  },
  {
   "cell_type": "code",
   "execution_count": 179,
   "metadata": {},
   "outputs": [
    {
     "data": {
      "text/plain": [
       "(2184, 1)"
      ]
     },
     "execution_count": 179,
     "metadata": {},
     "output_type": "execute_result"
    }
   ],
   "source": [
    "df_produto = pd.DataFrame(df_online_orders.groupby('on_product_id')['quantity'].sum())\n",
    "df_produto.shape\n"
   ]
  },
  {
   "cell_type": "code",
   "execution_count": 180,
   "metadata": {},
   "outputs": [
    {
     "data": {
      "text/html": [
       "<div>\n",
       "<style scoped>\n",
       "    .dataframe tbody tr th:only-of-type {\n",
       "        vertical-align: middle;\n",
       "    }\n",
       "\n",
       "    .dataframe tbody tr th {\n",
       "        vertical-align: top;\n",
       "    }\n",
       "\n",
       "    .dataframe thead th {\n",
       "        text-align: right;\n",
       "    }\n",
       "</style>\n",
       "<table border=\"1\" class=\"dataframe\">\n",
       "  <thead>\n",
       "    <tr style=\"text-align: right;\">\n",
       "      <th></th>\n",
       "      <th>quantity</th>\n",
       "    </tr>\n",
       "    <tr>\n",
       "      <th>on_product_id</th>\n",
       "      <th></th>\n",
       "    </tr>\n",
       "  </thead>\n",
       "  <tbody>\n",
       "    <tr>\n",
       "      <th>303038303931323</th>\n",
       "      <td>2</td>\n",
       "    </tr>\n",
       "    <tr>\n",
       "      <th>303062656662333</th>\n",
       "      <td>21</td>\n",
       "    </tr>\n",
       "    <tr>\n",
       "      <th>303063623230393</th>\n",
       "      <td>4</td>\n",
       "    </tr>\n",
       "    <tr>\n",
       "      <th>303133353935633</th>\n",
       "      <td>3</td>\n",
       "    </tr>\n",
       "    <tr>\n",
       "      <th>303165306164386</th>\n",
       "      <td>1</td>\n",
       "    </tr>\n",
       "  </tbody>\n",
       "</table>\n",
       "</div>"
      ],
      "text/plain": [
       "                 quantity\n",
       "on_product_id            \n",
       "303038303931323         2\n",
       "303062656662333        21\n",
       "303063623230393         4\n",
       "303133353935633         3\n",
       "303165306164386         1"
      ]
     },
     "execution_count": 180,
     "metadata": {},
     "output_type": "execute_result"
    }
   ],
   "source": [
    "df_produto.head()"
   ]
  },
  {
   "cell_type": "code",
   "execution_count": 181,
   "metadata": {},
   "outputs": [],
   "source": [
    "df_produto.reset_index(inplace=True)"
   ]
  },
  {
   "cell_type": "code",
   "execution_count": 182,
   "metadata": {},
   "outputs": [
    {
     "data": {
      "text/plain": [
       "on_product_id    666665316332663\n",
       "quantity                      74\n",
       "dtype: int64"
      ]
     },
     "execution_count": 182,
     "metadata": {},
     "output_type": "execute_result"
    }
   ],
   "source": [
    "#Produto Online mais comprado\n",
    "df_produto.max()"
   ]
  },
  {
   "cell_type": "markdown",
   "metadata": {},
   "source": [
    "## Online pageview"
   ]
  },
  {
   "cell_type": "code",
   "execution_count": 296,
   "metadata": {},
   "outputs": [],
   "source": [
    "#Carregando os dados\n",
    "#coloque aqui o caminho onde salvou o json ou csv\n",
    "path_online_pageviews ='/home/jair_rapids/PycharmProjects/Teste_Linx/Data/online_pageviews.json'\n",
    "df_online_pageviews = pd.read_json(path_online_pageviews, lines=True, orient='records')"
   ]
  },
  {
   "cell_type": "code",
   "execution_count": 297,
   "metadata": {},
   "outputs": [
    {
     "data": {
      "text/html": [
       "<div>\n",
       "<style scoped>\n",
       "    .dataframe tbody tr th:only-of-type {\n",
       "        vertical-align: middle;\n",
       "    }\n",
       "\n",
       "    .dataframe tbody tr th {\n",
       "        vertical-align: top;\n",
       "    }\n",
       "\n",
       "    .dataframe thead th {\n",
       "        text-align: right;\n",
       "    }\n",
       "</style>\n",
       "<table border=\"1\" class=\"dataframe\">\n",
       "  <thead>\n",
       "    <tr style=\"text-align: right;\">\n",
       "      <th></th>\n",
       "      <th>date</th>\n",
       "      <th>visitor_id</th>\n",
       "      <th>deviceType</th>\n",
       "      <th>pageType</th>\n",
       "      <th>category_id</th>\n",
       "      <th>on_product_id</th>\n",
       "      <th>customer_id</th>\n",
       "    </tr>\n",
       "  </thead>\n",
       "  <tbody>\n",
       "    <tr>\n",
       "      <th>3452520</th>\n",
       "      <td>2018-08-31</td>\n",
       "      <td>6.561623e+24</td>\n",
       "      <td>desktop</td>\n",
       "      <td>subcategory</td>\n",
       "      <td>3.733386e+09</td>\n",
       "      <td>NaN</td>\n",
       "      <td>NaN</td>\n",
       "    </tr>\n",
       "    <tr>\n",
       "      <th>3452521</th>\n",
       "      <td>2018-08-31</td>\n",
       "      <td>3.939616e+24</td>\n",
       "      <td>mobile</td>\n",
       "      <td>cart</td>\n",
       "      <td>NaN</td>\n",
       "      <td>NaN</td>\n",
       "      <td>NaN</td>\n",
       "    </tr>\n",
       "    <tr>\n",
       "      <th>3452522</th>\n",
       "      <td>2018-08-31</td>\n",
       "      <td>6.334664e+24</td>\n",
       "      <td>desktop</td>\n",
       "      <td>subcategory</td>\n",
       "      <td>3.330346e+09</td>\n",
       "      <td>NaN</td>\n",
       "      <td>NaN</td>\n",
       "    </tr>\n",
       "    <tr>\n",
       "      <th>3452523</th>\n",
       "      <td>2018-08-31</td>\n",
       "      <td>3.261377e+24</td>\n",
       "      <td>mobile</td>\n",
       "      <td>home</td>\n",
       "      <td>NaN</td>\n",
       "      <td>NaN</td>\n",
       "      <td>NaN</td>\n",
       "    </tr>\n",
       "    <tr>\n",
       "      <th>3452524</th>\n",
       "      <td>2018-08-31</td>\n",
       "      <td>3.638303e+24</td>\n",
       "      <td>desktop</td>\n",
       "      <td>subcategory</td>\n",
       "      <td>3.161653e+09</td>\n",
       "      <td>NaN</td>\n",
       "      <td>NaN</td>\n",
       "    </tr>\n",
       "    <tr>\n",
       "      <th>3452525</th>\n",
       "      <td>2018-08-31</td>\n",
       "      <td>6.437613e+24</td>\n",
       "      <td>desktop</td>\n",
       "      <td>product</td>\n",
       "      <td>3.363397e+09</td>\n",
       "      <td>6.163614e+14</td>\n",
       "      <td>NaN</td>\n",
       "    </tr>\n",
       "    <tr>\n",
       "      <th>3452526</th>\n",
       "      <td>2018-08-31</td>\n",
       "      <td>6.434303e+24</td>\n",
       "      <td>desktop</td>\n",
       "      <td>landing_page</td>\n",
       "      <td>NaN</td>\n",
       "      <td>NaN</td>\n",
       "      <td>NaN</td>\n",
       "    </tr>\n",
       "    <tr>\n",
       "      <th>3452527</th>\n",
       "      <td>2018-08-31</td>\n",
       "      <td>6.366653e+24</td>\n",
       "      <td>mobile</td>\n",
       "      <td>product</td>\n",
       "      <td>3.331663e+09</td>\n",
       "      <td>3.530383e+14</td>\n",
       "      <td>NaN</td>\n",
       "    </tr>\n",
       "    <tr>\n",
       "      <th>3452528</th>\n",
       "      <td>2018-08-31</td>\n",
       "      <td>6.163394e+24</td>\n",
       "      <td>mobile</td>\n",
       "      <td>product</td>\n",
       "      <td>6.539374e+09</td>\n",
       "      <td>6.239613e+14</td>\n",
       "      <td>NaN</td>\n",
       "    </tr>\n",
       "    <tr>\n",
       "      <th>3452529</th>\n",
       "      <td>2018-08-31</td>\n",
       "      <td>6.465303e+24</td>\n",
       "      <td>mobile</td>\n",
       "      <td>home</td>\n",
       "      <td>NaN</td>\n",
       "      <td>NaN</td>\n",
       "      <td>NaN</td>\n",
       "    </tr>\n",
       "    <tr>\n",
       "      <th>3452530</th>\n",
       "      <td>2018-08-31</td>\n",
       "      <td>3.839353e+24</td>\n",
       "      <td>mobile</td>\n",
       "      <td>category</td>\n",
       "      <td>6.632304e+09</td>\n",
       "      <td>NaN</td>\n",
       "      <td>NaN</td>\n",
       "    </tr>\n",
       "    <tr>\n",
       "      <th>3452531</th>\n",
       "      <td>2018-08-31</td>\n",
       "      <td>3.530323e+24</td>\n",
       "      <td>desktop</td>\n",
       "      <td>product</td>\n",
       "      <td>6.365313e+09</td>\n",
       "      <td>3.062647e+14</td>\n",
       "      <td>NaN</td>\n",
       "    </tr>\n",
       "    <tr>\n",
       "      <th>3452532</th>\n",
       "      <td>2018-08-31</td>\n",
       "      <td>6.239663e+24</td>\n",
       "      <td>mobile</td>\n",
       "      <td>landing_page</td>\n",
       "      <td>NaN</td>\n",
       "      <td>NaN</td>\n",
       "      <td>NaN</td>\n",
       "    </tr>\n",
       "    <tr>\n",
       "      <th>3452533</th>\n",
       "      <td>2018-08-31</td>\n",
       "      <td>6.132646e+24</td>\n",
       "      <td>mobile</td>\n",
       "      <td>product</td>\n",
       "      <td>3.838633e+09</td>\n",
       "      <td>3.838654e+14</td>\n",
       "      <td>NaN</td>\n",
       "    </tr>\n",
       "    <tr>\n",
       "      <th>3452534</th>\n",
       "      <td>2018-08-31</td>\n",
       "      <td>3.661363e+24</td>\n",
       "      <td>mobile</td>\n",
       "      <td>product</td>\n",
       "      <td>6.365313e+09</td>\n",
       "      <td>6.361394e+14</td>\n",
       "      <td>NaN</td>\n",
       "    </tr>\n",
       "    <tr>\n",
       "      <th>3452535</th>\n",
       "      <td>2018-08-31</td>\n",
       "      <td>3.764303e+24</td>\n",
       "      <td>mobile</td>\n",
       "      <td>product</td>\n",
       "      <td>3.533344e+09</td>\n",
       "      <td>3.962384e+14</td>\n",
       "      <td>NaN</td>\n",
       "    </tr>\n",
       "    <tr>\n",
       "      <th>3452536</th>\n",
       "      <td>2018-08-31</td>\n",
       "      <td>3.830366e+24</td>\n",
       "      <td>desktop</td>\n",
       "      <td>subcategory</td>\n",
       "      <td>3.733386e+09</td>\n",
       "      <td>NaN</td>\n",
       "      <td>NaN</td>\n",
       "    </tr>\n",
       "    <tr>\n",
       "      <th>3452537</th>\n",
       "      <td>2018-08-31</td>\n",
       "      <td>6.261346e+24</td>\n",
       "      <td>mobile</td>\n",
       "      <td>subcategory</td>\n",
       "      <td>3.733386e+09</td>\n",
       "      <td>NaN</td>\n",
       "      <td>NaN</td>\n",
       "    </tr>\n",
       "    <tr>\n",
       "      <th>3452538</th>\n",
       "      <td>2018-08-31</td>\n",
       "      <td>6.137614e+24</td>\n",
       "      <td>mobile</td>\n",
       "      <td>subcategory</td>\n",
       "      <td>3.136306e+09</td>\n",
       "      <td>NaN</td>\n",
       "      <td>NaN</td>\n",
       "    </tr>\n",
       "    <tr>\n",
       "      <th>3452539</th>\n",
       "      <td>2018-08-31</td>\n",
       "      <td>3.839633e+24</td>\n",
       "      <td>desktop</td>\n",
       "      <td>product</td>\n",
       "      <td>3.163313e+09</td>\n",
       "      <td>3.837356e+14</td>\n",
       "      <td>NaN</td>\n",
       "    </tr>\n",
       "  </tbody>\n",
       "</table>\n",
       "</div>"
      ],
      "text/plain": [
       "              date    visitor_id deviceType      pageType   category_id  \\\n",
       "3452520 2018-08-31  6.561623e+24    desktop   subcategory  3.733386e+09   \n",
       "3452521 2018-08-31  3.939616e+24     mobile          cart           NaN   \n",
       "3452522 2018-08-31  6.334664e+24    desktop   subcategory  3.330346e+09   \n",
       "3452523 2018-08-31  3.261377e+24     mobile          home           NaN   \n",
       "3452524 2018-08-31  3.638303e+24    desktop   subcategory  3.161653e+09   \n",
       "3452525 2018-08-31  6.437613e+24    desktop       product  3.363397e+09   \n",
       "3452526 2018-08-31  6.434303e+24    desktop  landing_page           NaN   \n",
       "3452527 2018-08-31  6.366653e+24     mobile       product  3.331663e+09   \n",
       "3452528 2018-08-31  6.163394e+24     mobile       product  6.539374e+09   \n",
       "3452529 2018-08-31  6.465303e+24     mobile          home           NaN   \n",
       "3452530 2018-08-31  3.839353e+24     mobile      category  6.632304e+09   \n",
       "3452531 2018-08-31  3.530323e+24    desktop       product  6.365313e+09   \n",
       "3452532 2018-08-31  6.239663e+24     mobile  landing_page           NaN   \n",
       "3452533 2018-08-31  6.132646e+24     mobile       product  3.838633e+09   \n",
       "3452534 2018-08-31  3.661363e+24     mobile       product  6.365313e+09   \n",
       "3452535 2018-08-31  3.764303e+24     mobile       product  3.533344e+09   \n",
       "3452536 2018-08-31  3.830366e+24    desktop   subcategory  3.733386e+09   \n",
       "3452537 2018-08-31  6.261346e+24     mobile   subcategory  3.733386e+09   \n",
       "3452538 2018-08-31  6.137614e+24     mobile   subcategory  3.136306e+09   \n",
       "3452539 2018-08-31  3.839633e+24    desktop       product  3.163313e+09   \n",
       "\n",
       "         on_product_id  customer_id  \n",
       "3452520            NaN          NaN  \n",
       "3452521            NaN          NaN  \n",
       "3452522            NaN          NaN  \n",
       "3452523            NaN          NaN  \n",
       "3452524            NaN          NaN  \n",
       "3452525   6.163614e+14          NaN  \n",
       "3452526            NaN          NaN  \n",
       "3452527   3.530383e+14          NaN  \n",
       "3452528   6.239613e+14          NaN  \n",
       "3452529            NaN          NaN  \n",
       "3452530            NaN          NaN  \n",
       "3452531   3.062647e+14          NaN  \n",
       "3452532            NaN          NaN  \n",
       "3452533   3.838654e+14          NaN  \n",
       "3452534   6.361394e+14          NaN  \n",
       "3452535   3.962384e+14          NaN  \n",
       "3452536            NaN          NaN  \n",
       "3452537            NaN          NaN  \n",
       "3452538            NaN          NaN  \n",
       "3452539   3.837356e+14          NaN  "
      ]
     },
     "execution_count": 297,
     "metadata": {},
     "output_type": "execute_result"
    }
   ],
   "source": [
    "df_online_pageviews.tail(20)"
   ]
  },
  {
   "cell_type": "code",
   "execution_count": 295,
   "metadata": {},
   "outputs": [
    {
     "data": {
      "text/plain": [
       "(20993, 7)"
      ]
     },
     "execution_count": 295,
     "metadata": {},
     "output_type": "execute_result"
    }
   ],
   "source": [
    "df_online_pageviews.shape"
   ]
  },
  {
   "cell_type": "code",
   "execution_count": 250,
   "metadata": {},
   "outputs": [
    {
     "data": {
      "text/plain": [
       "3371775"
      ]
     },
     "execution_count": 250,
     "metadata": {},
     "output_type": "execute_result"
    }
   ],
   "source": [
    "df_online_pageviews.customer_id.isna().sum()"
   ]
  },
  {
   "cell_type": "code",
   "execution_count": 266,
   "metadata": {},
   "outputs": [],
   "source": [
    "df_pageview_nona = df_online_pageviews[df_online_pageviews.customer_id.notnull()]"
   ]
  },
  {
   "cell_type": "code",
   "execution_count": 268,
   "metadata": {},
   "outputs": [
    {
     "data": {
      "text/plain": [
       "(20993, 7)"
      ]
     },
     "execution_count": 268,
     "metadata": {},
     "output_type": "execute_result"
    }
   ],
   "source": [
    "df_pageview_nona.shape"
   ]
  },
  {
   "cell_type": "code",
   "execution_count": 270,
   "metadata": {},
   "outputs": [
    {
     "data": {
      "text/html": [
       "<div>\n",
       "<style scoped>\n",
       "    .dataframe tbody tr th:only-of-type {\n",
       "        vertical-align: middle;\n",
       "    }\n",
       "\n",
       "    .dataframe tbody tr th {\n",
       "        vertical-align: top;\n",
       "    }\n",
       "\n",
       "    .dataframe thead th {\n",
       "        text-align: right;\n",
       "    }\n",
       "</style>\n",
       "<table border=\"1\" class=\"dataframe\">\n",
       "  <thead>\n",
       "    <tr style=\"text-align: right;\">\n",
       "      <th></th>\n",
       "      <th>date</th>\n",
       "      <th>visitor_id</th>\n",
       "      <th>deviceType</th>\n",
       "      <th>pageType</th>\n",
       "      <th>category_id</th>\n",
       "      <th>on_product_id</th>\n",
       "      <th>customer_id</th>\n",
       "    </tr>\n",
       "  </thead>\n",
       "  <tbody>\n",
       "    <tr>\n",
       "      <th>105</th>\n",
       "      <td>2018-08-01</td>\n",
       "      <td>3.832637e+24</td>\n",
       "      <td>mobile</td>\n",
       "      <td>product</td>\n",
       "      <td>6.365313e+09</td>\n",
       "      <td>3.232393e+14</td>\n",
       "      <td>3.334316e+19</td>\n",
       "    </tr>\n",
       "    <tr>\n",
       "      <th>234</th>\n",
       "      <td>2018-08-01</td>\n",
       "      <td>6.339633e+24</td>\n",
       "      <td>desktop</td>\n",
       "      <td>product</td>\n",
       "      <td>6.330623e+09</td>\n",
       "      <td>3.330304e+14</td>\n",
       "      <td>3.235393e+19</td>\n",
       "    </tr>\n",
       "    <tr>\n",
       "      <th>569</th>\n",
       "      <td>2018-08-02</td>\n",
       "      <td>3.662633e+24</td>\n",
       "      <td>mobile</td>\n",
       "      <td>product</td>\n",
       "      <td>6.139644e+09</td>\n",
       "      <td>6.261364e+14</td>\n",
       "      <td>6.632364e+19</td>\n",
       "    </tr>\n",
       "    <tr>\n",
       "      <th>795</th>\n",
       "      <td>2018-08-02</td>\n",
       "      <td>3.264626e+24</td>\n",
       "      <td>desktop</td>\n",
       "      <td>product</td>\n",
       "      <td>6.465324e+09</td>\n",
       "      <td>6.435303e+14</td>\n",
       "      <td>3.731354e+19</td>\n",
       "    </tr>\n",
       "    <tr>\n",
       "      <th>1319</th>\n",
       "      <td>2018-08-04</td>\n",
       "      <td>3.335317e+24</td>\n",
       "      <td>desktop</td>\n",
       "      <td>product</td>\n",
       "      <td>3.663346e+09</td>\n",
       "      <td>3.638374e+14</td>\n",
       "      <td>3.561334e+19</td>\n",
       "    </tr>\n",
       "  </tbody>\n",
       "</table>\n",
       "</div>"
      ],
      "text/plain": [
       "           date    visitor_id deviceType pageType   category_id  \\\n",
       "105  2018-08-01  3.832637e+24     mobile  product  6.365313e+09   \n",
       "234  2018-08-01  6.339633e+24    desktop  product  6.330623e+09   \n",
       "569  2018-08-02  3.662633e+24     mobile  product  6.139644e+09   \n",
       "795  2018-08-02  3.264626e+24    desktop  product  6.465324e+09   \n",
       "1319 2018-08-04  3.335317e+24    desktop  product  3.663346e+09   \n",
       "\n",
       "      on_product_id   customer_id  \n",
       "105    3.232393e+14  3.334316e+19  \n",
       "234    3.330304e+14  3.235393e+19  \n",
       "569    6.261364e+14  6.632364e+19  \n",
       "795    6.435303e+14  3.731354e+19  \n",
       "1319   3.638374e+14  3.561334e+19  "
      ]
     },
     "execution_count": 270,
     "metadata": {},
     "output_type": "execute_result"
    }
   ],
   "source": [
    "df_pageview_nona.head()"
   ]
  },
  {
   "cell_type": "code",
   "execution_count": 279,
   "metadata": {},
   "outputs": [],
   "source": [
    "customer_id_pageview = df_pageview_nona.customer_id.unique()"
   ]
  },
  {
   "cell_type": "code",
   "execution_count": 280,
   "metadata": {},
   "outputs": [
    {
     "data": {
      "text/plain": [
       "(1901,)"
      ]
     },
     "execution_count": 280,
     "metadata": {},
     "output_type": "execute_result"
    }
   ],
   "source": [
    "customer_id_pageview.shape"
   ]
  },
  {
   "cell_type": "code",
   "execution_count": 287,
   "metadata": {},
   "outputs": [],
   "source": [
    "mesmosconsumidores = 0\n",
    "for (index, row) in df_off_sales.iterrows():\n",
    "    if row['customer_id'] in customer_id_pageview:\n",
    "        mesmosconsumidores+=1"
   ]
  },
  {
   "cell_type": "code",
   "execution_count": 288,
   "metadata": {},
   "outputs": [
    {
     "data": {
      "text/plain": [
       "685"
      ]
     },
     "execution_count": 288,
     "metadata": {},
     "output_type": "execute_result"
    }
   ],
   "source": [
    "mesmosconsumidores"
   ]
  },
  {
   "cell_type": "markdown",
   "metadata": {},
   "source": [
    "### Tentando responder a ultima pergunta"
   ]
  },
  {
   "cell_type": "code",
   "execution_count": 312,
   "metadata": {},
   "outputs": [
    {
     "data": {
      "text/plain": [
       "product         1415853\n",
       "subcategory      689586\n",
       "home             381654\n",
       "category         344513\n",
       "landing_page     275505\n",
       "search            94510\n",
       "not_found         87938\n",
       "other             75302\n",
       "cart              30203\n",
       "emptysearch       29618\n",
       "checkout          17332\n",
       "confirmation       8351\n",
       "userprofile        2058\n",
       "topqueries          117\n",
       "Name: pageType, dtype: int64"
      ]
     },
     "execution_count": 312,
     "metadata": {},
     "output_type": "execute_result"
    }
   ],
   "source": [
    "#Verificando quantas pessoas foram ate o carrinho\n",
    "df_online_pageviews['pageType'].value_counts()"
   ]
  },
  {
   "cell_type": "code",
   "execution_count": 299,
   "metadata": {},
   "outputs": [],
   "source": [
    "#Criando um DataFrame separado somente com quem foi para o carrinho\n",
    "on_cart = df_online_pageviews[df_online_pageviews['pageType'] == 'cart']"
   ]
  },
  {
   "cell_type": "code",
   "execution_count": 300,
   "metadata": {},
   "outputs": [
    {
     "data": {
      "text/plain": [
       "(30203, 7)"
      ]
     },
     "execution_count": 300,
     "metadata": {},
     "output_type": "execute_result"
    }
   ],
   "source": [
    "#Verificando o shape\n",
    "on_cart.shape"
   ]
  },
  {
   "cell_type": "code",
   "execution_count": 302,
   "metadata": {},
   "outputs": [],
   "source": [
    "on_cart_total = on_cart.shape[0]\n"
   ]
  },
  {
   "cell_type": "code",
   "execution_count": 305,
   "metadata": {},
   "outputs": [],
   "source": [
    "#Veirificando a quantidade de vendas que foram feitas\n",
    "df_online_orders.shape\n",
    "online_compras_t = df_online_orders.shape[0]"
   ]
  },
  {
   "cell_type": "code",
   "execution_count": 306,
   "metadata": {},
   "outputs": [],
   "source": [
    "#QUantas pessoas foram ate o carrinho e nao compraram\n",
    "cart_no_buy = on_cart_total - online_compras_t"
   ]
  },
  {
   "cell_type": "code",
   "execution_count": 310,
   "metadata": {},
   "outputs": [
    {
     "name": "stdout",
     "output_type": "stream",
     "text": [
      "30203 pessoas chegaram ao carrinho, mas somente 12237 realmente compraram, entao temos ai 17966 de pessoas para alvo de campanha\n"
     ]
    }
   ],
   "source": [
    "print(f\"{on_cart_total} pessoas chegaram ao carrinho, mas somente {online_compras_t} realmente compraram, entao temos ai {cart_no_buy} de pessoas para alvo de campanha\")"
   ]
  },
  {
   "cell_type": "code",
   "execution_count": null,
   "metadata": {},
   "outputs": [],
   "source": []
  }
 ],
 "metadata": {
  "kernelspec": {
   "display_name": "Python 3",
   "language": "python",
   "name": "python3"
  },
  "language_info": {
   "codemirror_mode": {
    "name": "ipython",
    "version": 3
   },
   "file_extension": ".py",
   "mimetype": "text/x-python",
   "name": "python",
   "nbconvert_exporter": "python",
   "pygments_lexer": "ipython3",
   "version": "3.7.5"
  }
 },
 "nbformat": 4,
 "nbformat_minor": 4
}
